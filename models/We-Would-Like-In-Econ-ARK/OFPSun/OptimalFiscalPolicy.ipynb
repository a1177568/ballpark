{
 "cells": [
  {
   "cell_type": "markdown",
   "metadata": {},
   "source": [
    "# Optimal Fiscal Policy with Heterogeneous Agents\n",
    "## Journal: Quantitative Economics\n",
    "## Author: Macro Bassetto\n",
    "## Notebook by Mingzuo Sun\n",
    "## Sep 15, 2019\n"
   ]
  },
  {
   "cell_type": "markdown",
   "metadata": {},
   "source": [
    "### Goal of the paper\n",
    "This paper is designed to study the relationship between the intertemporal behavior of taxes and wealth distribution in a heterogeneous-agent framework. While optimal-taxation problem appears quite often in the literature of representative agent model, it is much less often discussed in a heterogeneous-agent context, one of the reasons of which is that RP model has much stronger welfare implication. However, in HP model, though it is quite difficult to argue what is the socially optimal taxation policy without an ad-hoc and somewhat subjective social welfare function, we can still study how the government can manipulate the intertemporal prices to favor some groups over others."
   ]
  },
  {
   "cell_type": "markdown",
   "metadata": {},
   "source": [
    "###  Overview\n",
    "\n",
    "This paper tries to study the optimal fiscal policy with heterogeneous agents on both of the normal sides and positive sides. On the normal side, the Pareto frontier on which there is a trade-off between 'equity and efficiency' is being traced in this paper. In addition, it also also tries to find some postive implications since a good political system will select policies close to the Pareto frontier. Particularly, when there are large fiscal shocks occuring like a war, the welfare differences among possible fiscal policies will differ a lot in the welfare, which in turn could make the main argument of the paper more evident.\n",
    " "
   ]
  },
  {
   "cell_type": "markdown",
   "metadata": {},
   "source": [
    "### Model\n",
    "\n",
    "#### Setup of the general model\n",
    "\n",
    "\n",
    "##### Endowment and technology\n",
    "\n",
    "Exogeneous stream of public spending which has no effect on utility function.\n",
    "\n",
    "$\\{g_t\\}_{t=0}^\\infty$: stochastic process with a finite range G.\n",
    "\n",
    "Randomization of taxation plan: $h_0$,revealed after the choice of consumption and tax plans at time 0.\n",
    "\n",
    "No storage and only one consumption good. \n",
    "\n",
    "CRS technology with labor being the only input, productivity $w^{i}$.g\n",
    "\n",
    "Each agent is endowed with 1 unit of time.\n",
    "\n",
    "Government can levy proportional taxes on the labor income of each agent in the economy.\n",
    "\n",
    "Complete market fot both privately issued or publicly issued securities. No defalt is allowed.\n",
    "\n",
    "$b^i(s^t)$: the amount of government-issued contingent claims payable at time $t$.\n",
    "\n",
    "$\\eta^i(s^t)$: entitlement to the state-contingent goods owned by agent $i$ as of time 0. $$\\sum_{n=1}^{N} \\eta^i(s^t) \\equiv 0$$\n",
    "##### Preferences\n",
    "$Agent=\\{1,...,i,...,N \\}$.\n",
    "\n",
    "$U^i\\equiv E_0 \\sum_{t=0}^{\\infty}  \\beta^t u^i(c^i(s^t),u^i(s^t))$\n",
    "\n",
    "The preference of the goverment(social welfare function):\n",
    "\n",
    "$W \\equiv \\sum_{n=1}^{N} \\alpha^iU^i$,$\\alpha^i$ is the Pareto weight of the $i$th agent.\n",
    "\n",
    "#### The two class economy\n",
    "\n",
    "The general framework is specialized into a particular case in which there are two types of agents in the economy M agents of type 1 and (by normalization) one agent of type 2. Type-1 agents are 'rentiers'. Their productivity is 0, so they always choose $x^1_t= 1$.They have no labor income and live only out of their assets.Type-2 agents\n",
    "are identified as the 'taxpayers', as they are the only ones who have labor income and therefore pay taxes.We normalize their productivity to be $w^2 = 1$.\n",
    "We assume the agents have the utility functions\n",
    "\n",
    "$u^1(c_t^1,x_t^1)=\\frac{(c_t^1)^{(1-\\gamma)} \\quad -1}{1-\\gamma}$ \n",
    "\n",
    "$u^2(c_t^2,x_t^2)=\\frac{(c_t^2)^{(1-\\gamma)} \\quad -1}{1-\\gamma}+ξ\\frac{(c_t^2)^{(1-\\sigma)} \\quad -1}{1-\\sigma} $ \n"
   ]
  },
  {
   "cell_type": "markdown",
   "metadata": {},
   "source": [
    "### Basic Results\n",
    "\n",
    "Diffrent tax rates in different periods can distort intertemporal prices, which is an important redistribution tool of the government.\n",
    "\n",
    "For the rentiers, the intertemporal change of tax rates will have not direct effect but indirect effect(general equiblibrium effect) on them.\n",
    "\n",
    "By taxing labor in odd periods and subsidizing it in even periods, the government generates an artificial scarcity of  goods in odd periods, which is beneficial to the rentiers but very costly to the tax payers.\n",
    "\n",
    "A government that draws its main support from the people who pay taxes should optimally run larger deficits and wait for the end of the war to levy the taxes necessary to repay the defense expenses,vice versa.\n",
    "\n",
    "\n"
   ]
  },
  {
   "cell_type": "markdown",
   "metadata": {},
   "source": [
    "### Novelty of The Paper\n",
    "\n",
    "Using a simple model, this paper tries to find a link between the way of financing large public project and the government tendency with efficiency considerations. By doing that, it manages to reveal some features of the optimal distortionary fiscal policy in a 2-agent model. Not a pure theoretical work, it also tries to validate its result based on some emprical evidence. By a simulation of the economies of France and Britain during their war time, it shows that the patterns of fiscal policy implemented by these two governments coincide with those in the history, which thus has also some political implications."
   ]
  },
  {
   "cell_type": "code",
   "execution_count": null,
   "metadata": {},
   "outputs": [],
   "source": []
  }
 ],
 "metadata": {
  "kernelspec": {
   "display_name": "Python 3",
   "language": "python",
   "name": "python3"
  },
  "language_info": {
   "codemirror_mode": {
    "name": "ipython",
    "version": 3
   },
   "file_extension": ".py",
   "mimetype": "text/x-python",
   "name": "python",
   "nbconvert_exporter": "python",
   "pygments_lexer": "ipython3",
   "version": "3.6.8"
  }
 },
 "nbformat": 4,
 "nbformat_minor": 2
}
