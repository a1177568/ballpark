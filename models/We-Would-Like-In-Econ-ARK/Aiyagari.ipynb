{
 "cells": [
  {
   "cell_type": "markdown",
   "metadata": {},
   "source": [
    "# Uninsured Idiosyncratic Risk and Aggregate Saving\n",
    "## Author: Rao Aiyagari\n",
    "## Journal: The Quarterly Journal of Economics, 1994\n",
    "## Summarized by Mingzuo Sun\n"
   ]
  },
  {
   "cell_type": "markdown",
   "metadata": {},
   "source": [
    "### Why do we need to introduce heterogeneities?\n",
    "\n",
    "The traditional model uses a single agent's behavior to represent the dynamics of the economy. Though RA model creates much simplicity for the analysis of the entire economy, it sacrifices its precision to match the data well. Behind RA, it is the assumption of a complete market in which Arrow Debreu securities are sold. With such a complete market, all the idiosyncratic risks to the agents are insured, which leads to a conclusion that for each individual, her consumption will be a constant part of the aggregate consumption. However, in contrast with the implications of RA model, empirical studies suggest that individual consumption are much more variable than aggregate consumption(Barsky, Mankiw and Zeldes 1986; Deaton 1991). In addition to the consumption, the behavior of wealth and portfolios is also strongly at variance with the complete markets model implicit in the representative agent framework. Thus due to incomplete markets, the existence of heterogeneity may be important especially with a context of borrowing constraints.\n",
    "\n",
    "\n"
   ]
  },
  {
   "cell_type": "markdown",
   "metadata": {},
   "source": [
    "### Key components of Aiyagari model\n",
    "\n",
    " Idiosyncratic risk\n",
    " \n",
    " Incomplete market\n",
    " \n",
    " Borrowing constraints\n"
   ]
  },
  {
   "cell_type": "markdown",
   "metadata": {},
   "source": [
    "### Related literature of heterogeneous agent model\n",
    "Aiyagari model originates from Bewley model and Hugget model. These models all share the same key components as mentioned in the previous part. And they are used to study the following topics:\n",
    "\n",
    " How much of observed wealth inequality can one explain through uninsurable earnings variation across agents?\n",
    " \n",
    " What is the fraction of aggregate savings due to the precautionary motive?\n",
    " \n",
    " What are the redistributional implications of various policies?\n",
    "\n",
    "#### The evolution of those models\n",
    "\n",
    " Bewley(1986):  an exogenous interest rate $r$ is assumed.\n",
    " \n",
    " Huggett(1993):  a pure exchange economy in which the interest rate is endogenized.\n",
    " \n",
    " Aiyagari(1994):  a production sector is added to Huggett model.\n",
    "\n",
    "\n"
   ]
  },
  {
   "cell_type": "markdown",
   "metadata": {},
   "source": [
    "### Setup of the model\n",
    "\n",
    "#### The household's problem\n",
    "Nonnegative consumption\n",
    "Borrowing constraints\n",
    "#### The firm's problem\n",
    "Competitive market in which marginal product of a factor equals the factor's price\n",
    "#### Idiosyncratic shocks to the labor endowment\n",
    "#### General equilibrium\n",
    "A steady state of the economy in which capital $k$ is a constant(so as the interest rate $r$ and wage $w$)  as well as the distributions of consumption and wealth of the households in the economy."
   ]
  },
  {
   "attachments": {},
   "cell_type": "markdown",
   "metadata": {},
   "source": [
    "### Basic results of the model\n",
    "\n",
    "<img src='Table2.png'>\n",
    "\n",
    "Note: Here $\\rho$ is the serial correlation coefficient of the labor endowment shock. $\\sigma$ measures the variance of the shock. $\\mu$ is the relative risk aversion.\n",
    "\n",
    "#### Aggregate Saving\n",
    "As we see, the aggregate saving rate increases in $\\rho$, $\\sigma$ and $\\mu$, which is consistent with the story of precautionary saving. When aggregate saving rate increases, the capital will be accumulated to a higher level in turn reducing the net interest rate. However, the main point here is that the differences between the saving rates with and without insurance are quite small for moderate and empirically plausible configuration of the parameters.\n",
    "####  Variabilities\n",
    "Consumption varies about 50-70 percent as much as income. Saving and assets are much volatile than income. Variability in earning has a relatively larger effects on the variabilities of consumption and relatively larger effects on the variabilities of other variables.\n",
    "\n",
    "#### Importance of asset trading\n",
    "Due to the existence of the asset market, consumers are able to accomplish a significant amount of consumption smoothing by accumulating and decumulating assets, and hence the welfare loss caused by the absence of a complete market is mall.\n",
    "\n",
    "#### Cross-section distributions and inequality measures\n",
    "The model could generate empirically plausible relative degrees of inequality(consumption<income<capital<saving rate),however, it cannot generate the observed degrees of inequality.\n",
    "\n",
    "\n",
    "\n",
    "\n"
   ]
  },
  {
   "cell_type": "markdown",
   "metadata": {},
   "source": [
    "### Conclusions and comments\n",
    "The Aiyagari model extends the Bewley model and the Hugget model to a context with a production sector. Deviating from the representative agent model in which complete market is implicitly assumed, it tries to study the aggregate saving behavior of the economy with the agents facing uninsured idiosyncratic risk. With an empirically plausible set of parameters, it finds that the aggregate saving rate does increase compared to the case with a complete market, however, the change here caused by the precautionary saving motive is mild. Also, the results of the model qualitatively match the real data in terms of the ranking of the fluctuations of some economic variables. However, in terms of approaching the real inequality of income and wealth shown by the data, the model does not perform very well.\n",
    "Also, in this model, the joint distribution of income and wealth is not treated as a state variable, which neglects the distribution effect which is what Krusell and Smith(1998) try to address. \n"
   ]
  }
 ],
 "metadata": {
  "kernelspec": {
   "display_name": "Python 3",
   "language": "python",
   "name": "python3"
  },
  "language_info": {
   "codemirror_mode": {
    "name": "ipython",
    "version": 3
   },
   "file_extension": ".py",
   "mimetype": "text/x-python",
   "name": "python",
   "nbconvert_exporter": "python",
   "pygments_lexer": "ipython3",
   "version": "3.6.8"
  }
 },
 "nbformat": 4,
 "nbformat_minor": 2
}
